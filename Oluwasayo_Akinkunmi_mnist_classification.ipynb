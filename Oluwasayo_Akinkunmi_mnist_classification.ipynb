{
  "nbformat": 4,
  "nbformat_minor": 0,
  "metadata": {
    "colab": {
      "name": "Oluwasayo_Akinkunmi_mnist_classification.ipynb",
      "provenance": [],
      "collapsed_sections": [],
      "authorship_tag": "ABX9TyPGOzxYTrPV/5Ovl0LYvqYf",
      "include_colab_link": true
    },
    "kernelspec": {
      "name": "python3",
      "display_name": "Python 3"
    }
  },
  "cells": [
    {
      "cell_type": "markdown",
      "metadata": {
        "id": "view-in-github",
        "colab_type": "text"
      },
      "source": [
        "<a href=\"https://colab.research.google.com/github/oluwasayo01/digits-classifier/blob/main/Oluwasayo_Akinkunmi_mnist_classification.ipynb\" target=\"_parent\"><img src=\"https://colab.research.google.com/assets/colab-badge.svg\" alt=\"Open In Colab\"/></a>"
      ]
    },
    {
      "cell_type": "markdown",
      "metadata": {
        "id": "L7ZAilPU6xLT"
      },
      "source": [
        "# MNIST Handwritten Digits Image Classification by Oluwasayo Akinkunmi\n"
      ]
    },
    {
      "cell_type": "code",
      "metadata": {
        "id": "IghUlsWic-F1"
      },
      "source": [
        "import tensorflow as tf\n",
        "from tensorflow.keras.datasets import mnist\n",
        "from tensorflow.keras.models import Sequential\n",
        "from tensorflow.keras.layers import Dense, Activation\n",
        "from tensorflow.keras.optimizers import RMSprop\n",
        "import numpy as np\n",
        "import matplotlib.pyplot as plt\n",
        "\n"
      ],
      "execution_count": null,
      "outputs": []
    },
    {
      "cell_type": "code",
      "metadata": {
        "id": "3aUm_w_SHv6C"
      },
      "source": [
        "np.random.seed(2020)"
      ],
      "execution_count": null,
      "outputs": []
    },
    {
      "cell_type": "code",
      "metadata": {
        "id": "nvllKSGUH-wk"
      },
      "source": [
        "epochs = 20\n",
        "batch_size = 128\n",
        "verbose = 1\n",
        "nb_classes = 10\n",
        "optimizer = RMSprop(learning_rate=0.002)\n",
        "hidden_layers = 3\n",
        "validation_split = 0.2\n",
        "hidden_1 = 300\n",
        "hidden_2 = 500\n",
        "hidden_3 = 100"
      ],
      "execution_count": null,
      "outputs": []
    },
    {
      "cell_type": "code",
      "metadata": {
        "id": "3REf3WqxPFji",
        "colab": {
          "base_uri": "https://localhost:8080/",
          "height": 34
        },
        "outputId": "f55ca7b8-5ada-4e7a-c989-205b7d9860e7"
      },
      "source": [
        "zeros = tf.zeros(10).numpy()\n",
        "zeros"
      ],
      "execution_count": null,
      "outputs": [
        {
          "output_type": "execute_result",
          "data": {
            "text/plain": [
              "array([0., 0., 0., 0., 0., 0., 0., 0., 0., 0.], dtype=float32)"
            ]
          },
          "metadata": {
            "tags": []
          },
          "execution_count": 4
        }
      ]
    },
    {
      "cell_type": "code",
      "metadata": {
        "id": "WHNm7IEeIfl4"
      },
      "source": [
        "(X_train, y_train), (X_test, y_test) = mnist.load_data()\n"
      ],
      "execution_count": null,
      "outputs": []
    },
    {
      "cell_type": "code",
      "metadata": {
        "id": "-i8JRE5GKTR9",
        "colab": {
          "base_uri": "https://localhost:8080/",
          "height": 34
        },
        "outputId": "a653bcba-a179-4624-9ed2-832f6b4d3a65"
      },
      "source": [
        "X_train.shape"
      ],
      "execution_count": null,
      "outputs": [
        {
          "output_type": "execute_result",
          "data": {
            "text/plain": [
              "(60000, 28, 28)"
            ]
          },
          "metadata": {
            "tags": []
          },
          "execution_count": 6
        }
      ]
    },
    {
      "cell_type": "code",
      "metadata": {
        "id": "uB_DKAGOKu2w",
        "colab": {
          "base_uri": "https://localhost:8080/",
          "height": 282
        },
        "outputId": "cb2dc7ab-5cd5-4dd3-f65d-e491dbce9ad8"
      },
      "source": [
        "plt.imshow(X_train[9], cmap='gray')"
      ],
      "execution_count": null,
      "outputs": [
        {
          "output_type": "execute_result",
          "data": {
            "text/plain": [
              "<matplotlib.image.AxesImage at 0x7fab34273f60>"
            ]
          },
          "metadata": {
            "tags": []
          },
          "execution_count": 7
        },
        {
          "output_type": "display_data",
          "data": {
            "image/png": "[encoded data removed]",
            "text/plain": [
              "<Figure size 432x288 with 1 Axes>"
            ]
          },
          "metadata": {
            "tags": [],
            "needs_background": "light"
          }
        }
      ]
    },
    {
      "cell_type": "code",
      "metadata": {
        "id": "f1JcMNcTdKU2"
      },
      "source": [
        "X_train = X_train.reshape(X_train.shape[0], X_train.shape[1]**2).astype('float32')\n",
        "X_test = X_test.reshape(X_test.shape[0], X_test.shape[1]**2).astype('float32')"
      ],
      "execution_count": null,
      "outputs": []
    },
    {
      "cell_type": "code",
      "metadata": {
        "id": "IcUJuv9sLeUG",
        "colab": {
          "base_uri": "https://localhost:8080/",
          "height": 34
        },
        "outputId": "e100c401-74b3-4ec7-cc1b-4e94ebc307ce"
      },
      "source": [
        "X_train.shape"
      ],
      "execution_count": null,
      "outputs": [
        {
          "output_type": "execute_result",
          "data": {
            "text/plain": [
              "(60000, 784)"
            ]
          },
          "metadata": {
            "tags": []
          },
          "execution_count": 9
        }
      ]
    },
    {
      "cell_type": "code",
      "metadata": {
        "id": "9W4gsdHTLePi",
        "colab": {
          "base_uri": "https://localhost:8080/",
          "height": 34
        },
        "outputId": "1e7b3fd2-b500-409f-b408-afa57adc7306"
      },
      "source": [
        "X_train[0].shape"
      ],
      "execution_count": null,
      "outputs": [
        {
          "output_type": "execute_result",
          "data": {
            "text/plain": [
              "(784,)"
            ]
          },
          "metadata": {
            "tags": []
          },
          "execution_count": 10
        }
      ]
    },
    {
      "cell_type": "code",
      "metadata": {
        "id": "tbdrTbjWLeFY"
      },
      "source": [
        "X_train /= 255\n",
        "X_test /= 255"
      ],
      "execution_count": null,
      "outputs": []
    },
    {
      "cell_type": "code",
      "metadata": {
        "id": "rn2WT7jhLeBf",
        "colab": {
          "base_uri": "https://localhost:8080/",
          "height": 34
        },
        "outputId": "727933a2-766f-4aef-9910-e941895739bd"
      },
      "source": [
        "y_train.astype('float32')\n",
        "y_test.astype('float32')"
      ],
      "execution_count": null,
      "outputs": [
        {
          "output_type": "execute_result",
          "data": {
            "text/plain": [
              "array([7., 2., 1., ..., 4., 5., 6.], dtype=float32)"
            ]
          },
          "metadata": {
            "tags": []
          },
          "execution_count": 12
        }
      ]
    },
    {
      "cell_type": "code",
      "metadata": {
        "id": "VjU-V4F3eTkM"
      },
      "source": [
        "arr = []"
      ],
      "execution_count": null,
      "outputs": []
    },
    {
      "cell_type": "code",
      "metadata": {
        "id": "cNn5CwOlLd9E"
      },
      "source": [
        "def cat_to_num(cat):\n",
        "  num = np.argwhere(cat == 1)[0][0]\n",
        "  return num"
      ],
      "execution_count": null,
      "outputs": []
    },
    {
      "cell_type": "code",
      "metadata": {
        "id": "mZ77BRP53wI9",
        "colab": {
          "base_uri": "https://localhost:8080/",
          "height": 34
        },
        "outputId": "d8b3407d-0cee-4a77-c8d2-9a5c85a555fd"
      },
      "source": [
        "arr = np.array([0, 0, 0, 1, 0, 0, 0])\n",
        "cat_to_num(arr)"
      ],
      "execution_count": null,
      "outputs": [
        {
          "output_type": "execute_result",
          "data": {
            "text/plain": [
              "3"
            ]
          },
          "metadata": {
            "tags": []
          },
          "execution_count": 15
        }
      ]
    },
    {
      "cell_type": "code",
      "metadata": {
        "id": "NIbxRaJL3vFm"
      },
      "source": [
        ""
      ],
      "execution_count": null,
      "outputs": []
    },
    {
      "cell_type": "code",
      "metadata": {
        "id": "K--FS-MubVAQ"
      },
      "source": [
        "y_train = tf.keras.utils.to_categorical(y_train, nb_classes)\n",
        "y_test = tf.keras.utils.to_categorical(y_test, nb_classes)"
      ],
      "execution_count": null,
      "outputs": []
    },
    {
      "cell_type": "code",
      "metadata": {
        "id": "xKklg70yLd6L",
        "colab": {
          "base_uri": "https://localhost:8080/",
          "height": 1000
        },
        "outputId": "7978b3cf-c109-4cde-bfef-6a4a96444fc9"
      },
      "source": [
        "%%time\n",
        "model = Sequential()\n",
        "model.add(Dense(hidden_1, input_shape=(X_train.shape[1],)))\n",
        "model.add(Activation('relu'))\n",
        "model.add(Dense(hidden_2))\n",
        "model.add(Activation('relu'))\n",
        "model.add(Dense(hidden_3))\n",
        "model.add(Activation('relu'))\n",
        "model.add(Dense(nb_classes))\n",
        "model.add(Activation('softmax'))\n",
        "model.summary()\n",
        "model.compile(loss='categorical_crossentropy', optimizer=optimizer, metrics=['accuracy'])\n",
        "history = model.fit(X_train, y_train, batch_size=batch_size, epochs=epochs, verbose=verbose, validation_split=validation_split )\n",
        "score = model.evaluate(X_test, y_test, verbose=verbose)\n",
        "\n",
        "print(\"Test Score: {}\".format(score[0]))\n",
        "print(\"Test accuracy: {}\".format(score[1]))\n"
      ],
      "execution_count": null,
      "outputs": [
        {
          "output_type": "stream",
          "text": [
            "Model: \"sequential\"\n",
            "_________________________________________________________________\n",
            "Layer (type)                 Output Shape              Param #   \n",
            "=================================================================\n",
            "dense (Dense)                (None, 300)               235500    \n",
            "_________________________________________________________________\n",
            "activation (Activation)      (None, 300)               0         \n",
            "_________________________________________________________________\n",
            "dense_1 (Dense)              (None, 500)               150500    \n",
            "_________________________________________________________________\n",
            "activation_1 (Activation)    (None, 500)               0         \n",
            "_________________________________________________________________\n",
            "dense_2 (Dense)              (None, 100)               50100     \n",
            "_________________________________________________________________\n",
            "activation_2 (Activation)    (None, 100)               0         \n",
            "_________________________________________________________________\n",
            "dense_3 (Dense)              (None, 10)                1010      \n",
            "_________________________________________________________________\n",
            "activation_3 (Activation)    (None, 10)                0         \n",
            "=================================================================\n",
            "Total params: 437,110\n",
            "Trainable params: 437,110\n",
            "Non-trainable params: 0\n",
            "_________________________________________________________________\n",
            "Epoch 1/20\n",
            "375/375 [==============================] - 5s 13ms/step - loss: 0.2883 - accuracy: 0.9093 - val_loss: 0.1699 - val_accuracy: 0.9509\n",
            "Epoch 2/20\n",
            "375/375 [==============================] - 5s 13ms/step - loss: 0.1073 - accuracy: 0.9687 - val_loss: 0.1277 - val_accuracy: 0.9651\n",
            "Epoch 3/20\n",
            "375/375 [==============================] - 5s 13ms/step - loss: 0.0745 - accuracy: 0.9779 - val_loss: 0.1038 - val_accuracy: 0.9737\n",
            "Epoch 4/20\n",
            "375/375 [==============================] - 5s 13ms/step - loss: 0.0576 - accuracy: 0.9835 - val_loss: 0.1280 - val_accuracy: 0.9718\n",
            "Epoch 5/20\n",
            "375/375 [==============================] - 5s 13ms/step - loss: 0.0499 - accuracy: 0.9858 - val_loss: 0.1105 - val_accuracy: 0.9769\n",
            "Epoch 6/20\n",
            "375/375 [==============================] - 5s 12ms/step - loss: 0.0418 - accuracy: 0.9882 - val_loss: 0.1373 - val_accuracy: 0.9760\n",
            "Epoch 7/20\n",
            "375/375 [==============================] - 5s 13ms/step - loss: 0.0381 - accuracy: 0.9894 - val_loss: 0.1738 - val_accuracy: 0.9768\n",
            "Epoch 8/20\n",
            "375/375 [==============================] - 5s 12ms/step - loss: 0.0340 - accuracy: 0.9909 - val_loss: 0.1716 - val_accuracy: 0.9783\n",
            "Epoch 9/20\n",
            "375/375 [==============================] - 5s 13ms/step - loss: 0.0358 - accuracy: 0.9913 - val_loss: 0.1678 - val_accuracy: 0.9783\n",
            "Epoch 10/20\n",
            "375/375 [==============================] - 5s 12ms/step - loss: 0.0307 - accuracy: 0.9926 - val_loss: 0.2569 - val_accuracy: 0.9759\n",
            "Epoch 11/20\n",
            "375/375 [==============================] - 5s 13ms/step - loss: 0.0318 - accuracy: 0.9928 - val_loss: 0.2309 - val_accuracy: 0.9767\n",
            "Epoch 12/20\n",
            "375/375 [==============================] - 5s 13ms/step - loss: 0.0279 - accuracy: 0.9939 - val_loss: 0.2043 - val_accuracy: 0.9785\n",
            "Epoch 13/20\n",
            "375/375 [==============================] - 5s 13ms/step - loss: 0.0327 - accuracy: 0.9933 - val_loss: 0.2225 - val_accuracy: 0.9795\n",
            "Epoch 14/20\n",
            "375/375 [==============================] - 5s 13ms/step - loss: 0.0322 - accuracy: 0.9941 - val_loss: 0.2280 - val_accuracy: 0.9777\n",
            "Epoch 15/20\n",
            "375/375 [==============================] - 5s 13ms/step - loss: 0.0263 - accuracy: 0.9946 - val_loss: 0.2902 - val_accuracy: 0.9728\n",
            "Epoch 16/20\n",
            "375/375 [==============================] - 5s 13ms/step - loss: 0.0260 - accuracy: 0.9949 - val_loss: 0.2727 - val_accuracy: 0.9741\n",
            "Epoch 17/20\n",
            "375/375 [==============================] - 5s 13ms/step - loss: 0.0279 - accuracy: 0.9949 - val_loss: 0.3075 - val_accuracy: 0.9739\n",
            "Epoch 18/20\n",
            "375/375 [==============================] - 5s 13ms/step - loss: 0.0215 - accuracy: 0.9957 - val_loss: 0.3619 - val_accuracy: 0.9769\n",
            "Epoch 19/20\n",
            "375/375 [==============================] - 5s 12ms/step - loss: 0.0264 - accuracy: 0.9955 - val_loss: 0.3471 - val_accuracy: 0.9762\n",
            "Epoch 20/20\n",
            "375/375 [==============================] - 5s 12ms/step - loss: 0.0230 - accuracy: 0.9960 - val_loss: 0.3867 - val_accuracy: 0.9783\n",
            "313/313 [==============================] - 1s 2ms/step - loss: 0.2533 - accuracy: 0.9800\n",
            "Test Score: 0.25334033370018005\n",
            "Test accuracy: 0.9800000190734863\n",
            "CPU times: user 2min 31s, sys: 9.25 s, total: 2min 40s\n",
            "Wall time: 1min 36s\n"
          ],
          "name": "stdout"
        }
      ]
    },
    {
      "cell_type": "code",
      "metadata": {
        "id": "LT5omRyY3HTj",
        "colab": {
          "base_uri": "https://localhost:8080/",
          "height": 34
        },
        "outputId": "b79469ee-eb77-4158-8398-4bce9f855ba2"
      },
      "source": [
        "cat_to_num(y_test[0])"
      ],
      "execution_count": null,
      "outputs": [
        {
          "output_type": "execute_result",
          "data": {
            "text/plain": [
              "7"
            ]
          },
          "metadata": {
            "tags": []
          },
          "execution_count": 18
        }
      ]
    },
    {
      "cell_type": "code",
      "metadata": {
        "id": "5sKi76qYLc_z",
        "colab": {
          "base_uri": "https://localhost:8080/",
          "height": 282
        },
        "outputId": "1a28efa2-11d0-4960-c1c2-f4c4e6d77184"
      },
      "source": [
        "plt.imshow(X_test[12].reshape(-1, 28), cmap='gray')"
      ],
      "execution_count": null,
      "outputs": [
        {
          "output_type": "execute_result",
          "data": {
            "text/plain": [
              "<matplotlib.image.AxesImage at 0x7fab2ec895f8>"
            ]
          },
          "metadata": {
            "tags": []
          },
          "execution_count": 19
        },
        {
          "output_type": "display_data",
          "data": {
            "image/png": "[encoded data removed]",
            "text/plain": [
              "<Figure size 432x288 with 1 Axes>"
            ]
          },
          "metadata": {
            "tags": [],
            "needs_background": "light"
          }
        }
      ]
    },
    {
      "cell_type": "code",
      "metadata": {
        "id": "9dCRt40S4YXd"
      },
      "source": [
        "prediction = model.predict(X_test)[12]"
      ],
      "execution_count": null,
      "outputs": []
    },
    {
      "cell_type": "code",
      "metadata": {
        "id": "SWtGWL5X5F5U",
        "colab": {
          "base_uri": "https://localhost:8080/",
          "height": 34
        },
        "outputId": "0d539fb1-73e2-45dd-9a3f-5f4c1de0a5eb"
      },
      "source": [
        "np.argwhere(prediction == np.max(prediction))[0][0]"
      ],
      "execution_count": null,
      "outputs": [
        {
          "output_type": "execute_result",
          "data": {
            "text/plain": [
              "9"
            ]
          },
          "metadata": {
            "tags": []
          },
          "execution_count": 21
        }
      ]
    }
  ]
}